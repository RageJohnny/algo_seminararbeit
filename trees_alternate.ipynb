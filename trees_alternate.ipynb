{
 "cells": [
  {
   "cell_type": "code",
   "execution_count": 1,
   "metadata": {},
   "outputs": [
    {
     "name": "stdout",
     "output_type": "stream",
     "text": [
      "-) Electronic Arts\n",
      "-) Activision\n",
      "-) Namco Bandai Games\n",
      "-) Ubisoft\n",
      "-) Konami Digital Entertainment\n",
      "-) THQ\n",
      "-) Nintendo\n",
      "-) Sony Computer Entertainment\n",
      "-) Sega\n",
      "-) Take-Two Interactive\n",
      "-) PS2\n",
      "-) DS\n",
      "-) PS3\n",
      "-) Wii\n",
      "-) X360\n",
      "-) PSP\n",
      "-) PS\n",
      "-) PC\n",
      "-) XB\n",
      "-) GBA\n",
      "-) Ubisoft\n",
      "-) EA Sports\n",
      "-) EA Canada\n",
      "-) Konami\n",
      "-) Capcom\n",
      "-) EA Tiburon\n",
      "-) Electronic Arts\n",
      "-) Ubisoft Montreal\n",
      "-) Visual Concepts\n",
      "-) Omega Force\n",
      "-) Traveller's Tales\n",
      "-) Vicarious Visions\n",
      "-) Activision\n",
      "-) TT Games\n",
      "-) Nintendo\n",
      "-) THQ\n",
      "-) Namco\n",
      "-) Codemasters\n",
      "-) Artificial Mind and Movement\n",
      "-) Midway\n"
     ]
    }
   ],
   "source": [
    "import pandas as pd\n",
    "import numpy as np\n",
    "import seaborn as sns\n",
    "import matplotlib.pyplot as plt\n",
    "from sklearn.compose import ColumnTransformer\n",
    "from sklearn.model_selection import train_test_split, GridSearchCV\n",
    "from sklearn.pipeline import Pipeline\n",
    "from sklearn.preprocessing import MinMaxScaler, OneHotEncoder, RobustScaler\n",
    "from sklearn.impute import SimpleImputer\n",
    "from sklearn.svm import SVR\n",
    "from sklearn.metrics import mean_squared_error\n",
    "from sklearn.ensemble import RandomForestRegressor, GradientBoostingRegressor, AdaBoostRegressor\n",
    "from sklearn.tree import DecisionTreeRegressor\n",
    "\n",
    "\n",
    "with open('./vgsales_extended.csv', mode='r') as file:\n",
    "    df = pd.read_csv(file)\n",
    "\n",
    "df.head()\n",
    "df.drop(columns=['NA_Sales', 'EU_Sales', 'JP_Sales', 'Other_Sales', 'Name'], inplace=True)\n",
    "\n",
    "top_publishers = df.groupby('Publisher').size().sort_values(ascending=False).head(10).index.to_list()\n",
    "for i in top_publishers:\n",
    "    print(f'-) {i}')\n",
    "    \n",
    "top_platforms = df.groupby('Platform').size().sort_values(ascending=False).head(10).index.to_list()\n",
    "for i in top_platforms:\n",
    "    print(f'-) {i}')\n",
    "    \n",
    "top_developers = df.groupby('Developer').size().sort_values(ascending=False).head(20).index.to_list()\n",
    "for i in top_developers:\n",
    "    print(f'-) {i}')\n",
    "\n",
    "df['Platform'] = df['Platform'].where(df['Platform'].isin(top_platforms), 'other')\n",
    "df.groupby('Platform').size().sort_values(ascending=False)\n",
    "\n",
    "df['Publisher'] = df['Publisher'].where(df['Publisher'].isin(top_publishers), 'other')\n",
    "df.groupby('Publisher').size().sort_values(ascending=False)\n",
    "\n",
    "df['Developer'] = df['Developer'].where(df['Developer'].isin(top_developers), 'other')\n",
    "df.groupby('Developer').size().sort_values(ascending=False)\n",
    "\n",
    "df.dropna(subset=['Year_of_Release', 'Publisher', 'User_Count', 'Developer', 'Rating'], inplace=True)\n",
    "y = np.array(df['Global_Sales'])\n",
    "df.drop(columns=['Global_Sales'], inplace=True)\n",
    "\n",
    "numeric_features = [j for j in df.columns if df[j].dtype in [np.int64, np.float64]]\n",
    "categorical_features = list(filter(lambda x: x not in numeric_features, df.columns))\n",
    "\n",
    "pipe_numeric = Pipeline(steps=[('imputation', SimpleImputer(strategy='median')),\n",
    "                               ('scaling', MinMaxScaler())])\n",
    "pipe_categorical = Pipeline(steps=[('encoding', OneHotEncoder())])\n",
    "\n",
    "preprocessor_X = ColumnTransformer(transformers=[\n",
    "    ('numerical', pipe_numeric, numeric_features),\n",
    "    ('categorical', pipe_categorical, categorical_features)])\n",
    "\n",
    "X = preprocessor_X.fit_transform(df)\n",
    "transformer_y = RobustScaler()\n",
    "transformer_y.fit(y.reshape(-1,1))\n",
    "y = transformer_y.transform(y.reshape(-1,1))\n",
    "\n",
    "train_X, test_X, train_y, test_y = train_test_split(X, y, random_state=42)"
   ]
  },
  {
   "cell_type": "code",
   "execution_count": null,
   "metadata": {},
   "outputs": [],
   "source": [
    "param_grid_forest = {'max_depth': [3,5,10],\n",
    "                  'criterion': ['mse', 'mae'],\n",
    "                  'n_estimators': [5,10,20,100]}\n",
    "grid_forest = GridSearchCV(RandomForestRegressor(random_state=42), param_grid_forest, n_jobs=-1)\n",
    "grid_forest.fit(train_X, train_y)\n",
    "grid_forest.best_score_"
   ]
  },
  {
   "cell_type": "code",
   "execution_count": null,
   "metadata": {},
   "outputs": [],
   "source": [
    "param_grid_gradient = {'max_depth': [3,5,10],\n",
    "                       'loss': ['ls', 'huber'],\n",
    "                       'n_estimators': [5,10,50]}\n",
    "grid_gradient = GridSearchCV(GradientBoostingRegressor(random_state=42), param_grid_gradient, n_jobs=-1)\n",
    "grid_gradient.fit(train_X, train_y)\n",
    "grid_gradient.best_score_"
   ]
  },
  {
   "cell_type": "code",
   "execution_count": null,
   "metadata": {},
   "outputs": [],
   "source": [
    "param_grid_ada = {'base_estimator': [DecisionTreeRegressor(max_dept=3), grid_forest.best_estimator],\n",
    "                  'loss': ['linear', 'square'],\n",
    "                  'n_estimators': [5,10,50]}\n",
    "grid_ada = GridSearchCV(AdaBoostRegressor(random_state=42), param_grid_ada, n_jobs=-1)\n",
    "grid_ada.fit(train_X, train_y)\n",
    "grid_ada.best_score_"
   ]
  },
  {
   "cell_type": "code",
   "execution_count": null,
   "metadata": {},
   "outputs": [],
   "source": [
    "for i in [grid_forest, grid_gradient, grid_ada]:\n",
    "    estimator = i.best_estimator_\n",
    "    print(estimator.score(test_X, test_y))"
   ]
  }
 ],
 "metadata": {
  "kernelspec": {
   "display_name": "Python 3",
   "language": "python",
   "name": "python3"
  },
  "language_info": {
   "codemirror_mode": {
    "name": "ipython",
    "version": 3
   },
   "file_extension": ".py",
   "mimetype": "text/x-python",
   "name": "python",
   "nbconvert_exporter": "python",
   "pygments_lexer": "ipython3",
   "version": "3.8.2"
  }
 },
 "nbformat": 4,
 "nbformat_minor": 4
}
