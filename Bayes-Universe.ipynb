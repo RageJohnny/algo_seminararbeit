{
 "cells": [
  {
   "cell_type": "code",
   "execution_count": null,
   "metadata": {
    "collapsed": true
   },
   "outputs": [],
   "source": [
    "# Bayes Universe\n",
    "\n",
    "Overview and Motivation: Geben Sie einen Überblick über die Projektziele (Ziele der Seminararbeit) und die Motivation für das Projekt ( Datensatz, Problemstellung, Idee,...). Bedenken Sie, dass dies auch von Personen gelesen wird, die Ihren Projektvorschlag nicht gesehen haben.\n",
    "\n",
    "Related Work: Alles, was Sie inspiriert hat, z.B. eine Arbeit, eine Website oder etwas, das wir im Unterricht diskutiert haben.\n",
    "\n",
    "Initial Questions: Welche Fragen versuchen Sie zu beantworten? Wie haben sich diese Fragen im Laufe des Projekts entwickelt? Welche neuen Fragen haben Sie im Laufe Ihrer Analyse berücksichtigt?\n",
    "\n",
    "Data: Source, scraping method, cleanup, storage, etc.\n",
    "\n",
    "Exploratory Data Analysis: Welche Visualisierungen haben Sie verwendet, um Ihre Daten auf unterschiedliche Weise zu betrachten? Welche verschiedenen statistischen Methoden haben Sie in Betracht gezogen? Begründen Sie die Entscheidungen, die Sie getroffen haben, und zeigen Sie alle wichtigen Änderungen Ihrer Ideen auf. Wie sind Sie zu diesen Schlussfolgerungen gekommen?\n",
    "\n",
    "Bringen Sie alle Themen in Bezug - Wenn etwas nicht möglich sein sollte, gibt es andere Umstände, wo z.b. Reinforcement Learning durchaus nützlich/notwendig sein könnte?\n",
    "\n",
    "Final Analysis: Was haben Sie über die Daten erfahren? Wie haben Sie die Fragen beantwortet? Wie können Sie Ihre Antworten rechtfertigen?\n",
    "\n"
   ]
  },
  {
   "cell_type": "code",
   "execution_count": null,
   "outputs": [],
   "source": [
    "# Monty Hall Algorithm\n",
    "https://www.norwegiancreations.com/2018/10/bayes-rule-and-the-monty-hall-problem/\n"
   ],
   "metadata": {
    "collapsed": false,
    "pycharm": {
     "name": "#%%\n"
    }
   }
  }
 ],
 "metadata": {
  "kernelspec": {
   "display_name": "Python 3",
   "language": "python",
   "name": "python3"
  },
  "language_info": {
   "codemirror_mode": {
    "name": "ipython",
    "version": 2
   },
   "file_extension": ".py",
   "mimetype": "text/x-python",
   "name": "python",
   "nbconvert_exporter": "python",
   "pygments_lexer": "ipython2",
   "version": "2.7.6"
  },
  "pycharm": {
   "stem_cell": {
    "cell_type": "raw",
    "source": [],
    "metadata": {
     "collapsed": false
    }
   }
  }
 },
 "nbformat": 4,
 "nbformat_minor": 0
}