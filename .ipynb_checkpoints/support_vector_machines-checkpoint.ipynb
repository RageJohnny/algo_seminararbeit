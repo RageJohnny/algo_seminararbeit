{
 "cells": [
  {
   "cell_type": "markdown",
   "metadata": {},
   "source": [
    "# Predicting Video Game Sales with Support Vector Machines\n",
    "\n",
    "Another Method we evaluate to predict Global Video Game Sales is support Vector Regression. First, a contrast to Linear Regression, in which the objective is to derive the eponymous linear equation that minimizes the Squares of the errors, taking into account a regularization term to constrain the complexity of the equation.\n",
    "\n",
    "In contrast, in a Support Vector regression, we define a hyperplane (i.e. an object with one less dimension than the data we are aiming to predict), as well as an error margin. The ideal predictor hyperplane given the width of the error margin, $\\epsilon$, includes the maximum number of datapoints within the boundary:\n",
    "\n",
    "![boundary illustration](./boundary.png)\n",
    "\n",
    "All points that remain _outside_ the boundary $\\epsilon$ are taken into account by their absolute deviation, $ |\\xi| $ (xi). Therefore, the objective becomes minimizing the deviations outside the hyperplane (which must contain the maximum number of values), which is written as:\n",
    "\n",
    "![minimize xi](./minimize_deviation.png)\n",
    "\n",
    "Ultimately, what we end up trying to achive is a hyperplane with\n",
    "* minimal complexity\n",
    "* that contains as many values within its margin denoted by $\\epsilon$\n",
    "* and minimizes the absolute deviations of values outside the boundary $|\\xi|$\n",
    "\n",
    "![complete svr](epsilon_xi.png)\n",
    "\n",
    "We will apply a standard supervised machine learning approach to an extended version of the Videogamesales data set. The explicit goal of the exercise is here to be able to predict the global sales volume from the inherent characteristics of a game upon/before release\n",
    "\n",
    "## Data Preparation\n",
    "\n",
    "First we will import the necessary packages and modules, namely:\n",
    "* pandas/numpy for efficiently reading and preparing the data\n",
    "* matplotlib/seaborn for initial graphical EDA\n",
    "* scikit-learn (more detail in the single sections)\n",
    "\n",
    "> Note: general EDA is contained in a separate notebook and some insights thereof will be taken for granted here\n",
    "\n",
    "### Importing the Packages, reading the data"
   ]
  },
  {
   "cell_type": "code",
   "execution_count": 23,
   "metadata": {},
   "outputs": [],
   "source": [
    "import pandas as pd\n",
    "import numpy as np\n",
    "import seaborn as sns\n",
    "import matplotlib.pyplot as plt\n",
    "from sklearn.compose import ColumnTransformer\n",
    "from sklearn.model_selection import train_test_split, GridSearchCV\n",
    "from sklearn.pipeline import Pipeline\n",
    "from sklearn.preprocessing import MinMaxScaler, OneHotEncoder, RobustScaler\n",
    "from sklearn.impute import SimpleImputer\n",
    "from sklearn.svm import SVR\n",
    "from sklearn.metrics import mean_squared_error"
   ]
  },
  {
   "cell_type": "code",
   "execution_count": 34,
   "metadata": {},
   "outputs": [],
   "source": [
    "with open('./vgsales_extended.csv', mode='r') as file:\n",
    "    df = pd.read_csv(file)\n",
    "\n",
    "df.head()\n",
    "df.drop(columns=['NA_Sales', 'EU_Sales', 'JP_Sales', 'Other_Sales', 'Name'], inplace=True)\n"
   ]
  },
  {
   "cell_type": "markdown",
   "metadata": {},
   "source": [
    "> Note: we droup all the regional sales columns, since there is a) obvious colinearity with the \"global sales\" variable and more importantly, b) those data would not be available upon release of a new game\n",
    "\n",
    "Here we take a quick look at the data again, there are a few additional columns used here, that were sourced from [videogames with ratings](https://www.kaggle.com/rush4ratio/video-game-sales-with-ratings) (kaggle).\n",
    "\n",
    "We used additional data Attributes in order to be able to better show the preprocessing needed in Support Vector Machines Specifically."
   ]
  },
  {
   "cell_type": "code",
   "execution_count": 3,
   "metadata": {},
   "outputs": [
    {
     "data": {
      "text/html": [
       "<div>\n",
       "<style scoped>\n",
       "    .dataframe tbody tr th:only-of-type {\n",
       "        vertical-align: middle;\n",
       "    }\n",
       "\n",
       "    .dataframe tbody tr th {\n",
       "        vertical-align: top;\n",
       "    }\n",
       "\n",
       "    .dataframe thead th {\n",
       "        text-align: right;\n",
       "    }\n",
       "</style>\n",
       "<table border=\"1\" class=\"dataframe\">\n",
       "  <thead>\n",
       "    <tr style=\"text-align: right;\">\n",
       "      <th></th>\n",
       "      <th>Platform</th>\n",
       "      <th>Year_of_Release</th>\n",
       "      <th>Genre</th>\n",
       "      <th>Publisher</th>\n",
       "      <th>Global_Sales</th>\n",
       "      <th>Critic_Score</th>\n",
       "      <th>Critic_Count</th>\n",
       "      <th>User_Score</th>\n",
       "      <th>User_Count</th>\n",
       "      <th>Developer</th>\n",
       "      <th>Rating</th>\n",
       "    </tr>\n",
       "  </thead>\n",
       "  <tbody>\n",
       "    <tr>\n",
       "      <th>0</th>\n",
       "      <td>Wii</td>\n",
       "      <td>2006.0</td>\n",
       "      <td>Sports</td>\n",
       "      <td>Nintendo</td>\n",
       "      <td>82.53</td>\n",
       "      <td>76.0</td>\n",
       "      <td>51.0</td>\n",
       "      <td>8</td>\n",
       "      <td>322.0</td>\n",
       "      <td>Nintendo</td>\n",
       "      <td>E</td>\n",
       "    </tr>\n",
       "    <tr>\n",
       "      <th>1</th>\n",
       "      <td>NES</td>\n",
       "      <td>1985.0</td>\n",
       "      <td>Platform</td>\n",
       "      <td>Nintendo</td>\n",
       "      <td>40.24</td>\n",
       "      <td>NaN</td>\n",
       "      <td>NaN</td>\n",
       "      <td>NaN</td>\n",
       "      <td>NaN</td>\n",
       "      <td>NaN</td>\n",
       "      <td>NaN</td>\n",
       "    </tr>\n",
       "    <tr>\n",
       "      <th>2</th>\n",
       "      <td>Wii</td>\n",
       "      <td>2008.0</td>\n",
       "      <td>Racing</td>\n",
       "      <td>Nintendo</td>\n",
       "      <td>35.52</td>\n",
       "      <td>82.0</td>\n",
       "      <td>73.0</td>\n",
       "      <td>8.3</td>\n",
       "      <td>709.0</td>\n",
       "      <td>Nintendo</td>\n",
       "      <td>E</td>\n",
       "    </tr>\n",
       "    <tr>\n",
       "      <th>3</th>\n",
       "      <td>Wii</td>\n",
       "      <td>2009.0</td>\n",
       "      <td>Sports</td>\n",
       "      <td>Nintendo</td>\n",
       "      <td>32.77</td>\n",
       "      <td>80.0</td>\n",
       "      <td>73.0</td>\n",
       "      <td>8</td>\n",
       "      <td>192.0</td>\n",
       "      <td>Nintendo</td>\n",
       "      <td>E</td>\n",
       "    </tr>\n",
       "    <tr>\n",
       "      <th>4</th>\n",
       "      <td>GB</td>\n",
       "      <td>1996.0</td>\n",
       "      <td>Role-Playing</td>\n",
       "      <td>Nintendo</td>\n",
       "      <td>31.37</td>\n",
       "      <td>NaN</td>\n",
       "      <td>NaN</td>\n",
       "      <td>NaN</td>\n",
       "      <td>NaN</td>\n",
       "      <td>NaN</td>\n",
       "      <td>NaN</td>\n",
       "    </tr>\n",
       "  </tbody>\n",
       "</table>\n",
       "</div>"
      ],
      "text/plain": [
       "  Platform  Year_of_Release         Genre Publisher  Global_Sales  \\\n",
       "0      Wii           2006.0        Sports  Nintendo         82.53   \n",
       "1      NES           1985.0      Platform  Nintendo         40.24   \n",
       "2      Wii           2008.0        Racing  Nintendo         35.52   \n",
       "3      Wii           2009.0        Sports  Nintendo         32.77   \n",
       "4       GB           1996.0  Role-Playing  Nintendo         31.37   \n",
       "\n",
       "   Critic_Score  Critic_Count User_Score  User_Count Developer Rating  \n",
       "0          76.0          51.0          8       322.0  Nintendo      E  \n",
       "1           NaN           NaN        NaN         NaN       NaN    NaN  \n",
       "2          82.0          73.0        8.3       709.0  Nintendo      E  \n",
       "3          80.0          73.0          8       192.0  Nintendo      E  \n",
       "4           NaN           NaN        NaN         NaN       NaN    NaN  "
      ]
     },
     "execution_count": 3,
     "metadata": {},
     "output_type": "execute_result"
    }
   ],
   "source": [
    "df.head()"
   ]
  },
  {
   "cell_type": "code",
   "execution_count": 38,
   "metadata": {},
   "outputs": [
    {
     "data": {
      "text/html": [
       "<div>\n",
       "<style scoped>\n",
       "    .dataframe tbody tr th:only-of-type {\n",
       "        vertical-align: middle;\n",
       "    }\n",
       "\n",
       "    .dataframe tbody tr th {\n",
       "        vertical-align: top;\n",
       "    }\n",
       "\n",
       "    .dataframe thead th {\n",
       "        text-align: right;\n",
       "    }\n",
       "</style>\n",
       "<table border=\"1\" class=\"dataframe\">\n",
       "  <thead>\n",
       "    <tr style=\"text-align: right;\">\n",
       "      <th></th>\n",
       "      <th>count</th>\n",
       "      <th>mean</th>\n",
       "      <th>std</th>\n",
       "      <th>min</th>\n",
       "      <th>25%</th>\n",
       "      <th>50%</th>\n",
       "      <th>75%</th>\n",
       "      <th>max</th>\n",
       "    </tr>\n",
       "  </thead>\n",
       "  <tbody>\n",
       "    <tr>\n",
       "      <th>Year_of_Release</th>\n",
       "      <td>16450.0</td>\n",
       "      <td>2006.487356</td>\n",
       "      <td>5.878995</td>\n",
       "      <td>1980.00</td>\n",
       "      <td>2003.00</td>\n",
       "      <td>2007.00</td>\n",
       "      <td>2010.00</td>\n",
       "      <td>2020.00</td>\n",
       "    </tr>\n",
       "    <tr>\n",
       "      <th>Global_Sales</th>\n",
       "      <td>16719.0</td>\n",
       "      <td>0.533543</td>\n",
       "      <td>1.547935</td>\n",
       "      <td>0.01</td>\n",
       "      <td>0.06</td>\n",
       "      <td>0.17</td>\n",
       "      <td>0.47</td>\n",
       "      <td>82.53</td>\n",
       "    </tr>\n",
       "    <tr>\n",
       "      <th>Critic_Score</th>\n",
       "      <td>8137.0</td>\n",
       "      <td>68.967679</td>\n",
       "      <td>13.938165</td>\n",
       "      <td>13.00</td>\n",
       "      <td>60.00</td>\n",
       "      <td>71.00</td>\n",
       "      <td>79.00</td>\n",
       "      <td>98.00</td>\n",
       "    </tr>\n",
       "    <tr>\n",
       "      <th>Critic_Count</th>\n",
       "      <td>8137.0</td>\n",
       "      <td>26.360821</td>\n",
       "      <td>18.980495</td>\n",
       "      <td>3.00</td>\n",
       "      <td>12.00</td>\n",
       "      <td>21.00</td>\n",
       "      <td>36.00</td>\n",
       "      <td>113.00</td>\n",
       "    </tr>\n",
       "    <tr>\n",
       "      <th>User_Count</th>\n",
       "      <td>7590.0</td>\n",
       "      <td>162.229908</td>\n",
       "      <td>561.282326</td>\n",
       "      <td>4.00</td>\n",
       "      <td>10.00</td>\n",
       "      <td>24.00</td>\n",
       "      <td>81.00</td>\n",
       "      <td>10665.00</td>\n",
       "    </tr>\n",
       "  </tbody>\n",
       "</table>\n",
       "</div>"
      ],
      "text/plain": [
       "                   count         mean         std      min      25%      50%  \\\n",
       "Year_of_Release  16450.0  2006.487356    5.878995  1980.00  2003.00  2007.00   \n",
       "Global_Sales     16719.0     0.533543    1.547935     0.01     0.06     0.17   \n",
       "Critic_Score      8137.0    68.967679   13.938165    13.00    60.00    71.00   \n",
       "Critic_Count      8137.0    26.360821   18.980495     3.00    12.00    21.00   \n",
       "User_Count        7590.0   162.229908  561.282326     4.00    10.00    24.00   \n",
       "\n",
       "                     75%       max  \n",
       "Year_of_Release  2010.00   2020.00  \n",
       "Global_Sales        0.47     82.53  \n",
       "Critic_Score       79.00     98.00  \n",
       "Critic_Count       36.00    113.00  \n",
       "User_Count         81.00  10665.00  "
      ]
     },
     "execution_count": 38,
     "metadata": {},
     "output_type": "execute_result"
    }
   ],
   "source": [
    "df.describe().transpose()"
   ]
  },
  {
   "cell_type": "code",
   "execution_count": 37,
   "metadata": {},
   "outputs": [
    {
     "data": {
      "text/plain": [
       "Platform            object\n",
       "Year_of_Release    float64\n",
       "Genre               object\n",
       "Publisher           object\n",
       "Global_Sales       float64\n",
       "Critic_Score       float64\n",
       "Critic_Count       float64\n",
       "User_Score          object\n",
       "User_Count         float64\n",
       "Developer           object\n",
       "Rating              object\n",
       "dtype: object"
      ]
     },
     "execution_count": 37,
     "metadata": {},
     "output_type": "execute_result"
    }
   ],
   "source": [
    "df.dtypes"
   ]
  },
  {
   "cell_type": "markdown",
   "metadata": {},
   "source": [
    "## Preprocessing\n",
    "\n",
    "Potential issues that become obvious here are:\n",
    "1. not all data is numeric \n",
    "2. some Attributes of the data also exhibit missing data\n",
    "\n",
    "### First, non-numeric data (since dealing with it eliminates missing data, in part). \n",
    "\n",
    "We know that Support Vector regression can only process numeric data, as should be intuitively clear from the mathematical background described in the beginning. So in order to utilize non-numeric attributes in any meaningful way, we need to _One-hot-encode_ the data. [documentation](https://scikit-learn.org/stable/modules/generated/sklearn.preprocessing.OneHotEncoder.html)\n",
    "\n",
    "Since for each unique value, One-hot-encoding produces a new attribute/column, let's first look at how many unique values there actually are in the relevant columns."
   ]
  },
  {
   "cell_type": "code",
   "execution_count": 4,
   "metadata": {},
   "outputs": [
    {
     "name": "stdout",
     "output_type": "stream",
     "text": [
      "columns Platform - unique values: 31\n",
      "columns Genre - unique values: 13\n",
      "columns Publisher - unique values: 582\n"
     ]
    }
   ],
   "source": [
    "for i in ['Platform', 'Genre', 'Publisher']:\n",
    "    print(f'columns {i} - unique values: {df[i].unique().shape[0]}')"
   ]
  },
  {
   "cell_type": "markdown",
   "metadata": {},
   "source": [
    "31 Platforms seems reasonable, but close to 600 different Publishers are clearly not a meaninful feature. Intuitively, would expect something approximating a Pareto distribution here; so, let's further look at how many Games are produced per Publisher: "
   ]
  },
  {
   "cell_type": "code",
   "execution_count": 33,
   "metadata": {},
   "outputs": [
    {
     "data": {
      "text/plain": [
       "<matplotlib.axes._subplots.AxesSubplot at 0x7f25e5f52340>"
      ]
     },
     "execution_count": 33,
     "metadata": {},
     "output_type": "execute_result"
    },
    {
     "data": {
      "image/png": "[encoded data removed]",
      "text/plain": [
       "<Figure size 720x720 with 1 Axes>"
      ]
     },
     "metadata": {
      "needs_background": "light"
     },
     "output_type": "display_data"
    }
   ],
   "source": [
    "df.groupby('Publisher').size().plot(kind='hist', bins=30, figsize=(10,10))\n",
    "#df['Publisher'].plot(kind='hist')"
   ]
  },
  {
   "cell_type": "markdown",
   "metadata": {},
   "source": [
    "This is more or less what we expected. We want to avoid overfitting and also eliminate useless features. We could bin all the publishers that are not in the top X into an 'other' category. But that would leave us with a large bin without much of a meaningful attribute here. So we elected to include only the largest publishers in terms of games produced.\n",
    "\n",
    "We did the same for platforms, in the interest of consistency.\n",
    "\n",
    "> Our objective is, for the sake of this exercise, to be able to \"bet\" on future hit games with reasonable certainty, this makes sense since a) small studios without a track record are inherently difficult to predict and b) games released on large platforms are inherently are more target-rich group\n",
    "\n",
    "Publishers (in descending order of games published) taken into account:"
   ]
  },
  {
   "cell_type": "code",
   "execution_count": 35,
   "metadata": {},
   "outputs": [
    {
     "name": "stdout",
     "output_type": "stream",
     "text": [
      "-) Electronic Arts\n",
      "-) Activision\n",
      "-) Namco Bandai Games\n",
      "-) Ubisoft\n",
      "-) Konami Digital Entertainment\n",
      "-) THQ\n",
      "-) Nintendo\n",
      "-) Sony Computer Entertainment\n",
      "-) Sega\n",
      "-) Take-Two Interactive\n"
     ]
    }
   ],
   "source": [
    "top_publishers = df.groupby('Publisher').size().sort_values(ascending=False).head(10).index.to_list()\n",
    "for i in top_publishers:\n",
    "    print(f'-) {i}')"
   ]
  },
  {
   "cell_type": "markdown",
   "metadata": {},
   "source": [
    "Platforms, also in descending order of games published"
   ]
  },
  {
   "cell_type": "code",
   "execution_count": 36,
   "metadata": {},
   "outputs": [
    {
     "name": "stdout",
     "output_type": "stream",
     "text": [
      "-) PS2\n",
      "-) DS\n",
      "-) PS3\n",
      "-) Wii\n",
      "-) X360\n",
      "-) PSP\n",
      "-) PS\n",
      "-) PC\n",
      "-) XB\n",
      "-) GBA\n"
     ]
    }
   ],
   "source": [
    "top_platforms = df.groupby('Platform').size().sort_values(ascending=False).head(10).index.to_list()\n",
    "for i in top_platforms:\n",
    "    print(f'-) {i}')"
   ]
  },
  {
   "cell_type": "markdown",
   "metadata": {},
   "source": [
    "As we can see, by excluding platforms outside the top 10 (roughly 2/3 of platforms) we lose a mere 3000/16000 data points"
   ]
  },
  {
   "cell_type": "code",
   "execution_count": 8,
   "metadata": {},
   "outputs": [
    {
     "data": {
      "text/plain": [
       "(13252, 11)"
      ]
     },
     "execution_count": 8,
     "metadata": {},
     "output_type": "execute_result"
    }
   ],
   "source": [
    "df = df.loc[df['Platform'].isin(top_platforms)]\n",
    "df.shape[0]"
   ]
  },
  {
   "cell_type": "markdown",
   "metadata": {},
   "source": [
    "Even more starkly, even though we excluded roughly 550 Publishers, we \"merely\" lose half our data points"
   ]
  },
  {
   "cell_type": "code",
   "execution_count": 9,
   "metadata": {},
   "outputs": [
    {
     "data": {
      "text/plain": [
       "(6528, 11)"
      ]
     },
     "execution_count": 9,
     "metadata": {},
     "output_type": "execute_result"
    }
   ],
   "source": [
    "df = df.loc[df['Publisher'].isin(top_publishers)]\n",
    "df.shape[0]"
   ]
  },
  {
   "cell_type": "code",
   "execution_count": 11,
   "metadata": {},
   "outputs": [
    {
     "data": {
      "text/plain": [
       "(6528, 11)"
      ]
     },
     "execution_count": 11,
     "metadata": {},
     "output_type": "execute_result"
    }
   ],
   "source": [
    "df.shape"
   ]
  },
  {
   "cell_type": "markdown",
   "metadata": {},
   "source": [
    "So now it should be clear why we dealt with our categories first - presumably, by excluding a nonetheless significant amount of our data, we have dealt with a number of the missing records already.\n",
    "The remaining data can now be one-hot-encoded without large concern, _if_ there is no missing data left in our categorical data.\n",
    "\n",
    "### Second, Missing Data"
   ]
  },
  {
   "cell_type": "code",
   "execution_count": 13,
   "metadata": {},
   "outputs": [
    {
     "data": {
      "text/plain": [
       "User_Count         0.456342\n",
       "Critic_Count       0.430760\n",
       "Critic_Score       0.430760\n",
       "Rating             0.310968\n",
       "User_Score         0.309743\n",
       "Developer          0.306985\n",
       "Year_of_Release    0.007200\n",
       "Global_Sales       0.000000\n",
       "Publisher          0.000000\n",
       "Genre              0.000000\n",
       "Platform           0.000000\n",
       "dtype: float64"
      ]
     },
     "execution_count": 13,
     "metadata": {},
     "output_type": "execute_result"
    }
   ],
   "source": [
    "df.isna().mean().sort_values(ascending=False)"
   ]
  },
  {
   "cell_type": "code",
   "execution_count": 14,
   "metadata": {},
   "outputs": [],
   "source": [
    "df.dropna(subset=['Year_of_Release', 'Publisher', 'User_Count', 'Developer', 'Rating'], inplace=True)\n",
    "y = np.array(df['Global_Sales'])\n",
    "df.drop(columns=['Global_Sales'], inplace=True)"
   ]
  },
  {
   "cell_type": "code",
   "execution_count": 15,
   "metadata": {},
   "outputs": [
    {
     "data": {
      "text/plain": [
       "Critic_Count       0.079954\n",
       "Critic_Score       0.079954\n",
       "Rating             0.000000\n",
       "Developer          0.000000\n",
       "User_Count         0.000000\n",
       "User_Score         0.000000\n",
       "Publisher          0.000000\n",
       "Genre              0.000000\n",
       "Year_of_Release    0.000000\n",
       "Platform           0.000000\n",
       "dtype: float64"
      ]
     },
     "execution_count": 15,
     "metadata": {},
     "output_type": "execute_result"
    }
   ],
   "source": [
    "df.isna().mean().sort_values(ascending=False)"
   ]
  },
  {
   "cell_type": "code",
   "execution_count": 16,
   "metadata": {},
   "outputs": [
    {
     "data": {
      "image/png": "[encoded data removed]",
      "text/plain": [
       "<Figure size 432x288 with 1 Axes>"
      ]
     },
     "metadata": {
      "needs_background": "light"
     },
     "output_type": "display_data"
    },
    {
     "data": {
      "image/png": "[encoded data removed]",
      "text/plain": [
       "<Figure size 432x288 with 1 Axes>"
      ]
     },
     "metadata": {
      "needs_background": "light"
     },
     "output_type": "display_data"
    },
    {
     "data": {
      "image/png": "[encoded data removed]",
      "text/plain": [
       "<Figure size 432x288 with 1 Axes>"
      ]
     },
     "metadata": {
      "needs_background": "light"
     },
     "output_type": "display_data"
    },
    {
     "data": {
      "image/png": "[encoded data removed]",
      "text/plain": [
       "<Figure size 432x288 with 1 Axes>"
      ]
     },
     "metadata": {
      "needs_background": "light"
     },
     "output_type": "display_data"
    },
    {
     "data": {
      "image/png": "[encoded data removed]",
      "text/plain": [
       "<Figure size 432x288 with 1 Axes>"
      ]
     },
     "metadata": {
      "needs_background": "light"
     },
     "output_type": "display_data"
    }
   ],
   "source": [
    "numeric_features = [j for j in df.columns if df[j].dtype in [np.int64, np.float64]]\n",
    "categorical_features = list(filter(lambda x: x not in numeric_features, df.columns))\n",
    "\n",
    "for i in numeric_features:\n",
    "    sns.boxplot(df[i])\n",
    "    plt.show()\n",
    "\n",
    "sns.boxplot(y)\n",
    "plt.show()"
   ]
  },
  {
   "cell_type": "code",
   "execution_count": 17,
   "metadata": {},
   "outputs": [],
   "source": [
    "pipe_numeric = Pipeline(steps=[('imputation', SimpleImputer(strategy='median')),\n",
    "                               ('scaling', MinMaxScaler())])\n",
    "pipe_categorical = Pipeline(steps=[('encoding', OneHotEncoder())])\n",
    "\n",
    "preprocessor_X = ColumnTransformer(transformers=[\n",
    "    ('numerical', pipe_numeric, numeric_features),\n",
    "    ('categorical', pipe_categorical, categorical_features)])\n",
    "\n",
    "X = preprocessor_X.fit_transform(df)\n",
    "transformer_y = RobustScaler()\n",
    "transformer_y.fit(y.reshape(-1,1))\n",
    "y = transformer_y.transform(y.reshape(-1,1))\n",
    "\n",
    "train_X, test_X, train_y, test_y = train_test_split(X, y, random_state=42)"
   ]
  },
  {
   "cell_type": "code",
   "execution_count": 18,
   "metadata": {},
   "outputs": [
    {
     "data": {
      "text/plain": [
       "array([ 2.025 ,  4.4375,  0.025 , ...,  0.2625,  0.7   , -0.4375])"
      ]
     },
     "execution_count": 18,
     "metadata": {},
     "output_type": "execute_result"
    }
   ],
   "source": [
    "train_y.ravel()"
   ]
  },
  {
   "cell_type": "code",
   "execution_count": 19,
   "metadata": {},
   "outputs": [
    {
     "name": "stderr",
     "output_type": "stream",
     "text": [
      "/usr/lib/python3.8/site-packages/sklearn/utils/validation.py:760: DataConversionWarning: A column-vector y was passed when a 1d array was expected. Please change the shape of y to (n_samples, ), for example using ravel().\n",
      "  y = column_or_1d(y, warn=True)\n"
     ]
    },
    {
     "data": {
      "text/plain": [
       "0.3152375335491386"
      ]
     },
     "execution_count": 19,
     "metadata": {},
     "output_type": "execute_result"
    }
   ],
   "source": [
    "svm_regressor = SVR(kernel='poly', degree=3, C=10)\n",
    "svm_regressor.fit(train_X, train_y)\n",
    "svm_regressor.score(test_X, test_y)"
   ]
  },
  {
   "cell_type": "code",
   "execution_count": 20,
   "metadata": {},
   "outputs": [
    {
     "data": {
      "text/plain": [
       "1.8612808115955424"
      ]
     },
     "execution_count": 20,
     "metadata": {},
     "output_type": "execute_result"
    }
   ],
   "source": [
    "mean_squared_error(train_y.ravel(), svm_regressor.predict(train_X))"
   ]
  },
  {
   "cell_type": "code",
   "execution_count": 21,
   "metadata": {},
   "outputs": [],
   "source": [
    "mse =mean_squared_error(test_y.ravel(), svm_regressor.predict(test_X))"
   ]
  },
  {
   "cell_type": "code",
   "execution_count": 22,
   "metadata": {},
   "outputs": [
    {
     "data": {
      "text/plain": [
       "array([[9.81744894]])"
      ]
     },
     "execution_count": 22,
     "metadata": {},
     "output_type": "execute_result"
    }
   ],
   "source": [
    "transformer_y.inverse_transform([[mse]])"
   ]
  },
  {
   "cell_type": "code",
   "execution_count": 28,
   "metadata": {},
   "outputs": [
    {
     "data": {
      "text/plain": [
       "0.38440159022592074"
      ]
     },
     "execution_count": 28,
     "metadata": {},
     "output_type": "execute_result"
    }
   ],
   "source": [
    "param_grid = [{'C': [0.01, 0.1, 1, 10], \n",
    "               'gamma': [0.0001, 0.001, 0.01, 0.1, 1],\n",
    "               'kernel': ['rbf', 'poly'],\n",
    "               'degree': [2,3,4]}]\n",
    "\n",
    "gridsearch = GridSearchCV(SVR(), param_grid, n_jobs=-1)\n",
    "gridsearch.fit(train_X, train_y)\n",
    "gridsearch.best_score_"
   ]
  },
  {
   "cell_type": "code",
   "execution_count": 29,
   "metadata": {},
   "outputs": [
    {
     "data": {
      "text/plain": [
       "{'C': 0.01, 'degree': 4, 'gamma': 1, 'kernel': 'poly'}"
      ]
     },
     "execution_count": 29,
     "metadata": {},
     "output_type": "execute_result"
    }
   ],
   "source": [
    "gridsearch.best_params_"
   ]
  }
 ],
 "metadata": {
  "kernelspec": {
   "display_name": "Python 3",
   "language": "python",
   "name": "python3"
  },
  "language_info": {
   "codemirror_mode": {
    "name": "ipython",
    "version": 3
   },
   "file_extension": ".py",
   "mimetype": "text/x-python",
   "name": "python",
   "nbconvert_exporter": "python",
   "pygments_lexer": "ipython3",
   "version": "3.8.2"
  }
 },
 "nbformat": 4,
 "nbformat_minor": 4
}
