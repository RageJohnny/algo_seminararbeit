{
 "cells": [
  {
   "cell_type": "markdown",
   "metadata": {},
   "source": [
    "# Predicting Video Game Sales with Support Vector Machines\n",
    "\n",
    "Another Method we evaluate to predict Global Video Game Sales is support Vector Regression. First, a contrast to Linear Regression, in which the objective is to derive the eponymous linear equation that minimizes the Squares of the errors, taking into account a regularization term to constrain the complexity of the equation.\n",
    "\n",
    "In contrast, in a Support Vector regression, we define a hyperplane (i.e. an object with one less dimension than the data we are aiming to predict), as well as an error margin. The ideal predictor hyperplane given the width of the error margin, $\\epsilon$, includes the maximum number of datapoints within the boundary:\n",
    "\n",
    "![boundary illustration](./img/boundary.png)\n",
    "\n",
    "All points that remain _outside_ the boundary $\\epsilon$ are taken into account by their absolute deviation, $ |\\xi| $ (xi). Therefore, the objective becomes minimizing the deviations outside the hyperplane (which must contain the maximum number of values), which is written as:\n",
    "\n",
    "![minimize xi](./img/minimize_xi.png)\n",
    "\n",
    "Ultimately, what we end up trying to achive is a hyperplane with\n",
    "* minimal complexity\n",
    "* that contains as many values within its margin denoted by $\\epsilon$\n",
    "* and minimizes the absolute deviations of values outside the boundary $|\\xi|$\n",
    "\n",
    "![complete svr](./img/epsilon_xi.png)\n",
    "\n",
    "We will apply a standard supervised machine learning approach to an extended version of the Videogamesales data set. The explicit goal of the exercise is here to be able to predict the global sales volume from the inherent characteristics of a game upon/before release\n",
    "\n",
    "## Data Preparation\n",
    "\n",
    "First we will import the necessary packages and modules, namely:\n",
    "* pandas/numpy for efficiently reading and preparing the data\n",
    "* matplotlib/seaborn for initial graphical EDA\n",
    "* scikit-learn (more detail in the single sections)\n",
    "\n",
    "> Note: general EDA is contained in a separate notebook and some insights thereof will be taken for granted here\n",
    "\n",
    "### Importing the Packages, reading the data"
   ]
  },
  {
   "cell_type": "code",
   "execution_count": 1,
   "metadata": {},
   "outputs": [],
   "source": [
    "import pandas as pd\n",
    "import numpy as np\n",
    "import seaborn as sns\n",
    "import matplotlib.pyplot as plt\n",
    "from sklearn.compose import ColumnTransformer\n",
    "from sklearn.model_selection import train_test_split, GridSearchCV\n",
    "from sklearn.pipeline import Pipeline\n",
    "from sklearn.preprocessing import MinMaxScaler, OneHotEncoder, RobustScaler\n",
    "from sklearn.impute import SimpleImputer\n",
    "from sklearn.svm import SVR\n",
    "from sklearn.metrics import mean_squared_error"
   ]
  },
  {
   "cell_type": "code",
   "execution_count": 2,
   "metadata": {},
   "outputs": [],
   "source": [
    "with open('./vgsales_extended.csv', mode='r') as file:\n",
    "    df = pd.read_csv(file)\n",
    "\n",
    "df.head()\n",
    "df.drop(columns=['NA_Sales', 'EU_Sales', 'JP_Sales', 'Other_Sales', 'Name'], inplace=True)\n"
   ]
  },
  {
   "cell_type": "markdown",
   "metadata": {},
   "source": [
    "> Note: we droup all the regional sales columns, since there is a) obvious colinearity with the \"global sales\" variable and more importantly, b) those data would not be available upon release of a new game\n",
    "\n",
    "Here we take a quick look at the data again, there are a few additional columns used here, that were sourced from [videogames with ratings](https://www.kaggle.com/rush4ratio/video-game-sales-with-ratings) (kaggle).\n",
    "\n",
    "We used additional data Attributes in order to be able to better show the preprocessing needed in Support Vector Machines Specifically."
   ]
  },
  {
   "cell_type": "code",
   "execution_count": 3,
   "metadata": {},
   "outputs": [
    {
     "data": {
      "text/html": [
       "<div>\n",
       "<style scoped>\n",
       "    .dataframe tbody tr th:only-of-type {\n",
       "        vertical-align: middle;\n",
       "    }\n",
       "\n",
       "    .dataframe tbody tr th {\n",
       "        vertical-align: top;\n",
       "    }\n",
       "\n",
       "    .dataframe thead th {\n",
       "        text-align: right;\n",
       "    }\n",
       "</style>\n",
       "<table border=\"1\" class=\"dataframe\">\n",
       "  <thead>\n",
       "    <tr style=\"text-align: right;\">\n",
       "      <th></th>\n",
       "      <th>Platform</th>\n",
       "      <th>Year_of_Release</th>\n",
       "      <th>Genre</th>\n",
       "      <th>Publisher</th>\n",
       "      <th>Global_Sales</th>\n",
       "      <th>Critic_Score</th>\n",
       "      <th>Critic_Count</th>\n",
       "      <th>User_Score</th>\n",
       "      <th>User_Count</th>\n",
       "      <th>Developer</th>\n",
       "      <th>Rating</th>\n",
       "    </tr>\n",
       "  </thead>\n",
       "  <tbody>\n",
       "    <tr>\n",
       "      <th>0</th>\n",
       "      <td>Wii</td>\n",
       "      <td>2006.0</td>\n",
       "      <td>Sports</td>\n",
       "      <td>Nintendo</td>\n",
       "      <td>82.53</td>\n",
       "      <td>76.0</td>\n",
       "      <td>51.0</td>\n",
       "      <td>8</td>\n",
       "      <td>322.0</td>\n",
       "      <td>Nintendo</td>\n",
       "      <td>E</td>\n",
       "    </tr>\n",
       "    <tr>\n",
       "      <th>1</th>\n",
       "      <td>NES</td>\n",
       "      <td>1985.0</td>\n",
       "      <td>Platform</td>\n",
       "      <td>Nintendo</td>\n",
       "      <td>40.24</td>\n",
       "      <td>NaN</td>\n",
       "      <td>NaN</td>\n",
       "      <td>NaN</td>\n",
       "      <td>NaN</td>\n",
       "      <td>NaN</td>\n",
       "      <td>NaN</td>\n",
       "    </tr>\n",
       "    <tr>\n",
       "      <th>2</th>\n",
       "      <td>Wii</td>\n",
       "      <td>2008.0</td>\n",
       "      <td>Racing</td>\n",
       "      <td>Nintendo</td>\n",
       "      <td>35.52</td>\n",
       "      <td>82.0</td>\n",
       "      <td>73.0</td>\n",
       "      <td>8.3</td>\n",
       "      <td>709.0</td>\n",
       "      <td>Nintendo</td>\n",
       "      <td>E</td>\n",
       "    </tr>\n",
       "    <tr>\n",
       "      <th>3</th>\n",
       "      <td>Wii</td>\n",
       "      <td>2009.0</td>\n",
       "      <td>Sports</td>\n",
       "      <td>Nintendo</td>\n",
       "      <td>32.77</td>\n",
       "      <td>80.0</td>\n",
       "      <td>73.0</td>\n",
       "      <td>8</td>\n",
       "      <td>192.0</td>\n",
       "      <td>Nintendo</td>\n",
       "      <td>E</td>\n",
       "    </tr>\n",
       "    <tr>\n",
       "      <th>4</th>\n",
       "      <td>GB</td>\n",
       "      <td>1996.0</td>\n",
       "      <td>Role-Playing</td>\n",
       "      <td>Nintendo</td>\n",
       "      <td>31.37</td>\n",
       "      <td>NaN</td>\n",
       "      <td>NaN</td>\n",
       "      <td>NaN</td>\n",
       "      <td>NaN</td>\n",
       "      <td>NaN</td>\n",
       "      <td>NaN</td>\n",
       "    </tr>\n",
       "  </tbody>\n",
       "</table>\n",
       "</div>"
      ],
      "text/plain": [
       "  Platform  Year_of_Release         Genre Publisher  Global_Sales  \\\n",
       "0      Wii           2006.0        Sports  Nintendo         82.53   \n",
       "1      NES           1985.0      Platform  Nintendo         40.24   \n",
       "2      Wii           2008.0        Racing  Nintendo         35.52   \n",
       "3      Wii           2009.0        Sports  Nintendo         32.77   \n",
       "4       GB           1996.0  Role-Playing  Nintendo         31.37   \n",
       "\n",
       "   Critic_Score  Critic_Count User_Score  User_Count Developer Rating  \n",
       "0          76.0          51.0          8       322.0  Nintendo      E  \n",
       "1           NaN           NaN        NaN         NaN       NaN    NaN  \n",
       "2          82.0          73.0        8.3       709.0  Nintendo      E  \n",
       "3          80.0          73.0          8       192.0  Nintendo      E  \n",
       "4           NaN           NaN        NaN         NaN       NaN    NaN  "
      ]
     },
     "execution_count": 3,
     "metadata": {},
     "output_type": "execute_result"
    }
   ],
   "source": [
    "df.head()"
   ]
  },
  {
   "cell_type": "code",
   "execution_count": 4,
   "metadata": {},
   "outputs": [
    {
     "data": {
      "text/html": [
       "<div>\n",
       "<style scoped>\n",
       "    .dataframe tbody tr th:only-of-type {\n",
       "        vertical-align: middle;\n",
       "    }\n",
       "\n",
       "    .dataframe tbody tr th {\n",
       "        vertical-align: top;\n",
       "    }\n",
       "\n",
       "    .dataframe thead th {\n",
       "        text-align: right;\n",
       "    }\n",
       "</style>\n",
       "<table border=\"1\" class=\"dataframe\">\n",
       "  <thead>\n",
       "    <tr style=\"text-align: right;\">\n",
       "      <th></th>\n",
       "      <th>count</th>\n",
       "      <th>mean</th>\n",
       "      <th>std</th>\n",
       "      <th>min</th>\n",
       "      <th>25%</th>\n",
       "      <th>50%</th>\n",
       "      <th>75%</th>\n",
       "      <th>max</th>\n",
       "    </tr>\n",
       "  </thead>\n",
       "  <tbody>\n",
       "    <tr>\n",
       "      <th>Year_of_Release</th>\n",
       "      <td>16450.0</td>\n",
       "      <td>2006.487356</td>\n",
       "      <td>5.878995</td>\n",
       "      <td>1980.00</td>\n",
       "      <td>2003.00</td>\n",
       "      <td>2007.00</td>\n",
       "      <td>2010.00</td>\n",
       "      <td>2020.00</td>\n",
       "    </tr>\n",
       "    <tr>\n",
       "      <th>Global_Sales</th>\n",
       "      <td>16719.0</td>\n",
       "      <td>0.533543</td>\n",
       "      <td>1.547935</td>\n",
       "      <td>0.01</td>\n",
       "      <td>0.06</td>\n",
       "      <td>0.17</td>\n",
       "      <td>0.47</td>\n",
       "      <td>82.53</td>\n",
       "    </tr>\n",
       "    <tr>\n",
       "      <th>Critic_Score</th>\n",
       "      <td>8137.0</td>\n",
       "      <td>68.967679</td>\n",
       "      <td>13.938165</td>\n",
       "      <td>13.00</td>\n",
       "      <td>60.00</td>\n",
       "      <td>71.00</td>\n",
       "      <td>79.00</td>\n",
       "      <td>98.00</td>\n",
       "    </tr>\n",
       "    <tr>\n",
       "      <th>Critic_Count</th>\n",
       "      <td>8137.0</td>\n",
       "      <td>26.360821</td>\n",
       "      <td>18.980495</td>\n",
       "      <td>3.00</td>\n",
       "      <td>12.00</td>\n",
       "      <td>21.00</td>\n",
       "      <td>36.00</td>\n",
       "      <td>113.00</td>\n",
       "    </tr>\n",
       "    <tr>\n",
       "      <th>User_Count</th>\n",
       "      <td>7590.0</td>\n",
       "      <td>162.229908</td>\n",
       "      <td>561.282326</td>\n",
       "      <td>4.00</td>\n",
       "      <td>10.00</td>\n",
       "      <td>24.00</td>\n",
       "      <td>81.00</td>\n",
       "      <td>10665.00</td>\n",
       "    </tr>\n",
       "  </tbody>\n",
       "</table>\n",
       "</div>"
      ],
      "text/plain": [
       "                   count         mean         std      min      25%      50%  \\\n",
       "Year_of_Release  16450.0  2006.487356    5.878995  1980.00  2003.00  2007.00   \n",
       "Global_Sales     16719.0     0.533543    1.547935     0.01     0.06     0.17   \n",
       "Critic_Score      8137.0    68.967679   13.938165    13.00    60.00    71.00   \n",
       "Critic_Count      8137.0    26.360821   18.980495     3.00    12.00    21.00   \n",
       "User_Count        7590.0   162.229908  561.282326     4.00    10.00    24.00   \n",
       "\n",
       "                     75%       max  \n",
       "Year_of_Release  2010.00   2020.00  \n",
       "Global_Sales        0.47     82.53  \n",
       "Critic_Score       79.00     98.00  \n",
       "Critic_Count       36.00    113.00  \n",
       "User_Count         81.00  10665.00  "
      ]
     },
     "execution_count": 4,
     "metadata": {},
     "output_type": "execute_result"
    }
   ],
   "source": [
    "df.describe().transpose()"
   ]
  },
  {
   "cell_type": "code",
   "execution_count": 5,
   "metadata": {},
   "outputs": [
    {
     "data": {
      "text/plain": [
       "Platform            object\n",
       "Year_of_Release    float64\n",
       "Genre               object\n",
       "Publisher           object\n",
       "Global_Sales       float64\n",
       "Critic_Score       float64\n",
       "Critic_Count       float64\n",
       "User_Score          object\n",
       "User_Count         float64\n",
       "Developer           object\n",
       "Rating              object\n",
       "dtype: object"
      ]
     },
     "execution_count": 5,
     "metadata": {},
     "output_type": "execute_result"
    }
   ],
   "source": [
    "df.dtypes"
   ]
  },
  {
   "cell_type": "markdown",
   "metadata": {},
   "source": [
    "## Preprocessing\n",
    "\n",
    "Potential issues that become obvious here are:\n",
    "1. not all data is numeric \n",
    "2. some Attributes of the data also exhibit missing data\n",
    "\n",
    "### First, non-numeric data (since dealing with it eliminates missing data, in part). \n",
    "\n",
    "We know that Support Vector regression can only process numeric data, as should be intuitively clear from the mathematical background described in the beginning - we calculate distances, both in order to estimate whether or not a value should be taken into consideration because it falls within the boundary defined via $\\epsilon$ as well as the deviations $\\sum{|\\xi|}$ of values _outside_ the boundary. \n",
    "\n",
    "So in order to utilize non-numeric attributes in any meaningful way, we need to _One-hot-encode_ the data. [documentation](https://scikit-learn.org/stable/modules/generated/sklearn.preprocessing.OneHotEncoder.html)\n",
    "\n",
    "Since for each unique value, One-hot-encoding produces a new attribute/column, let's first look at how many unique values there actually are in the relevant columns."
   ]
  },
  {
   "cell_type": "code",
   "execution_count": 6,
   "metadata": {},
   "outputs": [
    {
     "name": "stdout",
     "output_type": "stream",
     "text": [
      "Column Platform - unique values: 31\n",
      "Column Genre - unique values: 13\n",
      "Column Publisher - unique values: 582\n",
      "Column Developer - unique values: 1697\n"
     ]
    }
   ],
   "source": [
    "for i in ['Platform', 'Genre', 'Publisher', 'Developer']:\n",
    "    print(f'Column {i} - unique values: {df[i].unique().shape[0]}')"
   ]
  },
  {
   "cell_type": "markdown",
   "metadata": {},
   "source": [
    "31 Platforms seems reasonable, but close to 600 different Publishers are clearly not a meaninful feature. Intuitively, would expect something approximating a Pareto distribution here; so, let's further look at how many Games are produced per Publisher: "
   ]
  },
  {
   "cell_type": "code",
   "execution_count": 7,
   "metadata": {},
   "outputs": [
    {
     "data": {
      "text/plain": [
       "<matplotlib.axes._subplots.AxesSubplot at 0x7f69e9d4a160>"
      ]
     },
     "execution_count": 7,
     "metadata": {},
     "output_type": "execute_result"
    },
    {
     "data": {
      "image/png": "[encoded data removed]",
      "text/plain": [
       "<Figure size 720x720 with 1 Axes>"
      ]
     },
     "metadata": {
      "needs_background": "light"
     },
     "output_type": "display_data"
    }
   ],
   "source": [
    "df.groupby('Publisher').size().plot(kind='hist', bins=30, figsize=(10,10))\n",
    "#df['Publisher'].plot(kind='hist')"
   ]
  },
  {
   "cell_type": "code",
   "execution_count": 8,
   "metadata": {},
   "outputs": [
    {
     "data": {
      "text/plain": [
       "<matplotlib.axes._subplots.AxesSubplot at 0x7f69e7bd7dc0>"
      ]
     },
     "execution_count": 8,
     "metadata": {},
     "output_type": "execute_result"
    },
    {
     "data": {
      "image/png": "[encoded data removed]",
      "text/plain": [
       "<Figure size 720x720 with 1 Axes>"
      ]
     },
     "metadata": {
      "needs_background": "light"
     },
     "output_type": "display_data"
    }
   ],
   "source": [
    "df.groupby('Developer').size().plot(kind='hist', bins=30, figsize=(10,10))\n",
    "#df['Publisher'].plot(kind='hist')"
   ]
  },
  {
   "cell_type": "markdown",
   "metadata": {},
   "source": [
    "This is more or less what we expected. We want to avoid overfitting and also eliminate useless features. We will bin all the publishers/developers/platforms that are not in the top 10/20 into an 'other' category. Thereby, while we do lose a bit of information, we avoid a matrix with 1500+ columns and still keep all of our data (in this step.\n",
    "\n",
    "> Our objective is, for the sake of this exercise, to be able to \"bet\" on future hit games with reasonable certainty, this makes sense since a) small studios without a track record are inherently difficult to predict and b) games released on large platforms are inherently are more target-rich group - thereby, the specific name of an indie studio would arguably hold no more information than the information that it was not produced by a large company\n",
    "\n",
    "Publishers (in descending order of games published) taken into account:"
   ]
  },
  {
   "cell_type": "code",
   "execution_count": 9,
   "metadata": {},
   "outputs": [
    {
     "name": "stdout",
     "output_type": "stream",
     "text": [
      "-) Electronic Arts\n",
      "-) Activision\n",
      "-) Namco Bandai Games\n",
      "-) Ubisoft\n",
      "-) Konami Digital Entertainment\n",
      "-) THQ\n",
      "-) Nintendo\n",
      "-) Sony Computer Entertainment\n",
      "-) Sega\n",
      "-) Take-Two Interactive\n"
     ]
    }
   ],
   "source": [
    "top_publishers = df.groupby('Publisher').size().sort_values(ascending=False).head(10).index.to_list()\n",
    "for i in top_publishers:\n",
    "    print(f'-) {i}')"
   ]
  },
  {
   "cell_type": "markdown",
   "metadata": {},
   "source": [
    "Platforms, also in descending order of games published"
   ]
  },
  {
   "cell_type": "code",
   "execution_count": 10,
   "metadata": {},
   "outputs": [
    {
     "name": "stdout",
     "output_type": "stream",
     "text": [
      "-) PS2\n",
      "-) DS\n",
      "-) PS3\n",
      "-) Wii\n",
      "-) X360\n",
      "-) PSP\n",
      "-) PS\n",
      "-) PC\n",
      "-) XB\n",
      "-) GBA\n"
     ]
    }
   ],
   "source": [
    "top_platforms = df.groupby('Platform').size().sort_values(ascending=False).head(10).index.to_list()\n",
    "for i in top_platforms:\n",
    "    print(f'-) {i}')"
   ]
  },
  {
   "cell_type": "markdown",
   "metadata": {},
   "source": [
    "Developers, in descending order"
   ]
  },
  {
   "cell_type": "code",
   "execution_count": 11,
   "metadata": {},
   "outputs": [
    {
     "name": "stdout",
     "output_type": "stream",
     "text": [
      "-) Ubisoft\n",
      "-) EA Sports\n",
      "-) EA Canada\n",
      "-) Konami\n",
      "-) Capcom\n",
      "-) EA Tiburon\n",
      "-) Electronic Arts\n",
      "-) Ubisoft Montreal\n",
      "-) Visual Concepts\n",
      "-) Omega Force\n",
      "-) Traveller's Tales\n",
      "-) Vicarious Visions\n",
      "-) Activision\n",
      "-) TT Games\n",
      "-) Nintendo\n",
      "-) THQ\n",
      "-) Namco\n",
      "-) Codemasters\n",
      "-) Artificial Mind and Movement\n",
      "-) Midway\n"
     ]
    }
   ],
   "source": [
    "top_developers = df.groupby('Developer').size().sort_values(ascending=False).head(20).index.to_list()\n",
    "for i in top_developers:\n",
    "    print(f'-) {i}')"
   ]
  },
  {
   "cell_type": "markdown",
   "metadata": {},
   "source": []
  },
  {
   "cell_type": "code",
   "execution_count": 12,
   "metadata": {},
   "outputs": [
    {
     "data": {
      "text/plain": [
       "Platform\n",
       "other    3467\n",
       "PS2      2161\n",
       "DS       2152\n",
       "PS3      1331\n",
       "Wii      1320\n",
       "X360     1262\n",
       "PSP      1209\n",
       "PS       1197\n",
       "PC        974\n",
       "XB        824\n",
       "GBA       822\n",
       "dtype: int64"
      ]
     },
     "execution_count": 12,
     "metadata": {},
     "output_type": "execute_result"
    }
   ],
   "source": [
    "df['Platform'] = df['Platform'].where(df['Platform'].isin(top_platforms), 'other')\n",
    "df.groupby('Platform').size().sort_values(ascending=False)"
   ]
  },
  {
   "cell_type": "code",
   "execution_count": 13,
   "metadata": {},
   "outputs": [
    {
     "data": {
      "text/plain": [
       "Publisher\n",
       "other                           8504\n",
       "Electronic Arts                 1356\n",
       "Activision                       985\n",
       "Namco Bandai Games               939\n",
       "Ubisoft                          933\n",
       "Konami Digital Entertainment     834\n",
       "THQ                              715\n",
       "Nintendo                         706\n",
       "Sony Computer Entertainment      687\n",
       "Sega                             638\n",
       "Take-Two Interactive             422\n",
       "dtype: int64"
      ]
     },
     "execution_count": 13,
     "metadata": {},
     "output_type": "execute_result"
    }
   ],
   "source": [
    "df['Publisher'] = df['Publisher'].where(df['Publisher'].isin(top_publishers), 'other')\n",
    "df.groupby('Publisher').size().sort_values(ascending=False)"
   ]
  },
  {
   "cell_type": "code",
   "execution_count": 14,
   "metadata": {},
   "outputs": [
    {
     "data": {
      "text/plain": [
       "Developer\n",
       "other                           14692\n",
       "Ubisoft                           204\n",
       "EA Sports                         172\n",
       "EA Canada                         167\n",
       "Konami                            162\n",
       "Capcom                            139\n",
       "EA Tiburon                        108\n",
       "Electronic Arts                   104\n",
       "Ubisoft Montreal                  101\n",
       "Visual Concepts                    99\n",
       "Omega Force                        80\n",
       "Traveller's Tales                  77\n",
       "Vicarious Visions                  76\n",
       "Activision                         75\n",
       "TT Games                           73\n",
       "Nintendo                           72\n",
       "THQ                                71\n",
       "Namco                              64\n",
       "Codemasters                        62\n",
       "Artificial Mind and Movement       61\n",
       "Midway                             60\n",
       "dtype: int64"
      ]
     },
     "execution_count": 14,
     "metadata": {},
     "output_type": "execute_result"
    }
   ],
   "source": [
    "df['Developer'] = df['Developer'].where(df['Developer'].isin(top_developers), 'other')\n",
    "df.groupby('Developer').size().sort_values(ascending=False)"
   ]
  },
  {
   "cell_type": "markdown",
   "metadata": {},
   "source": [
    "So now it should be clear why we dealt with our categories first - presumably, by filling a significant amount of our data with 'other', we have dealt with a number of the missing records already.\n",
    "The remaining data can now be one-hot-encoded without large concern, _after_ we have dealt with missing values.\n",
    "\n",
    "### Second, Missing Data\n",
    "\n",
    "First of all, we want to know how much data is missing altogether here. We do this at first in terms of how much data is missing as a percentage of the total, since we want to impute out missing data with the median, if at all possible."
   ]
  },
  {
   "cell_type": "code",
   "execution_count": 15,
   "metadata": {},
   "outputs": [
    {
     "data": {
      "text/plain": [
       "User_Count         0.546025\n",
       "Critic_Count       0.513308\n",
       "Critic_Score       0.513308\n",
       "Rating             0.404869\n",
       "User_Score         0.400981\n",
       "Year_of_Release    0.016089\n",
       "Genre              0.000120\n",
       "Developer          0.000000\n",
       "Global_Sales       0.000000\n",
       "Publisher          0.000000\n",
       "Platform           0.000000\n",
       "dtype: float64"
      ]
     },
     "execution_count": 15,
     "metadata": {},
     "output_type": "execute_result"
    }
   ],
   "source": [
    "df.isna().mean().sort_values(ascending=False)"
   ]
  },
  {
   "cell_type": "markdown",
   "metadata": {},
   "source": [
    "What has become apparent here is that:\n",
    "1. Some variables have a significant portion of their data missing\n",
    "2. some attributes do not make much sense for imputation\n",
    "\n",
    "As for 2, it does not seem to make much sense to impute the release year of a game with the median. Even though this is an ordinal attribute, there is no reason to assume that imputing the central value makes sense here. Furthermore, year of release is a very small fraction (<2%) of the missing data which we can comfortably drop.\n",
    "\n",
    "Much more critically, while some fraction of the data may be imputed, upwards of 40% missing data is not reasonable to impute with either median imputation or hot-deck imputation.\n",
    "\n",
    "We first drop these records, and then see how large a fraction remains missing in the other attibutes.\n",
    "\n",
    "> Note: obviously, this opens our model up to hidden factors here. It seems absolutely plausible that some confounding factor influences the fact that data on these specific games is missing. Maybe Critic coverage on indie studios is simply not extensive enough to provide user counts, critics reviews or ratings. This **definiteily** opens us up to black swan events (e.g. \"dark horse\" titles that are hugely successful \"out of nowhere\" because traditional models were trained on the mainstream and were poised to overlook them)! This topic is rather out of scope here, but we did take note of it (and maybe model-based imputation or modelling on missing values explicitly mitigates this issue in a further investigation)"
   ]
  },
  {
   "cell_type": "code",
   "execution_count": 16,
   "metadata": {},
   "outputs": [],
   "source": [
    "df.dropna(subset=['Year_of_Release', 'Publisher', 'User_Count', 'Developer', 'Rating'], inplace=True)\n",
    "y = np.array(df['Global_Sales'])\n",
    "df.drop(columns=['Global_Sales'], inplace=True)"
   ]
  },
  {
   "cell_type": "code",
   "execution_count": 17,
   "metadata": {},
   "outputs": [
    {
     "data": {
      "text/plain": [
       "Critic_Count       0.075068\n",
       "Critic_Score       0.075068\n",
       "Rating             0.000000\n",
       "Developer          0.000000\n",
       "User_Count         0.000000\n",
       "User_Score         0.000000\n",
       "Publisher          0.000000\n",
       "Genre              0.000000\n",
       "Year_of_Release    0.000000\n",
       "Platform           0.000000\n",
       "dtype: float64"
      ]
     },
     "execution_count": 17,
     "metadata": {},
     "output_type": "execute_result"
    }
   ],
   "source": [
    "df.isna().mean().sort_values(ascending=False)"
   ]
  },
  {
   "cell_type": "markdown",
   "metadata": {},
   "source": [
    "So we see here that the remaining data missing <10% which may comfortably be imputed using the median.\n",
    "\n",
    "### Finally, scaling data\n",
    "\n",
    "Since SVR Kernel Methods are all based on distance (as mentioned above) features need to be on the same scale here. Since we looked at the distribution of our data here and in the initial EDA we know that our data (and our outcome variable) are initially quite far away from being normally distributed.\n",
    "\n",
    "Again, this is not surprising since these behaviorally-based success outcomes (Music Consumption, Book Sales, Film Success etc. etc.) are fundamentally Pareto-distributed.\n",
    "\n",
    "So we first check if this is still the case and how large the outliers appear to be:"
   ]
  },
  {
   "cell_type": "code",
   "execution_count": 18,
   "metadata": {},
   "outputs": [
    {
     "data": {
      "image/png": "[encoded data removed]",
      "text/plain": [
       "<Figure size 432x288 with 1 Axes>"
      ]
     },
     "metadata": {
      "needs_background": "light"
     },
     "output_type": "display_data"
    },
    {
     "data": {
      "image/png": "[encoded data removed]",
      "text/plain": [
       "<Figure size 432x288 with 1 Axes>"
      ]
     },
     "metadata": {
      "needs_background": "light"
     },
     "output_type": "display_data"
    },
    {
     "data": {
      "image/png": "[encoded data removed]",
      "text/plain": [
       "<Figure size 432x288 with 1 Axes>"
      ]
     },
     "metadata": {
      "needs_background": "light"
     },
     "output_type": "display_data"
    },
    {
     "data": {
      "image/png": "[encoded data removed]",
      "text/plain": [
       "<Figure size 432x288 with 1 Axes>"
      ]
     },
     "metadata": {
      "needs_background": "light"
     },
     "output_type": "display_data"
    },
    {
     "data": {
      "image/png": "[encoded data removed]",
      "text/plain": [
       "<Figure size 432x288 with 1 Axes>"
      ]
     },
     "metadata": {
      "needs_background": "light"
     },
     "output_type": "display_data"
    }
   ],
   "source": [
    "numeric_features = [j for j in df.columns if df[j].dtype in [np.int64, np.float64]]\n",
    "categorical_features = list(filter(lambda x: x not in numeric_features, df.columns))\n",
    "\n",
    "for i in numeric_features:\n",
    "    sns.boxplot(df[i]).set_title(i)\n",
    "    plt.show()\n",
    "\n",
    "sns.boxplot(y).set_title('Global Sales')\n",
    "plt.show()"
   ]
  },
  {
   "cell_type": "markdown",
   "metadata": {},
   "source": [
    "It is obvious that some variables (User Count, Global Sales, the most behaviorally-driven features) show strong outliers. We will therefore use a RobustScaler, that is we will scale along the interquartile range in order to mitigate the effect of these extreme outliers.\n",
    "\n",
    "> Again, in a deeper analysis we might want to take a close look at these outliers, in a clustering approach for example, since they might share commonalities (as extremely successfull titles) that we want to specifically train our model to recognize. This would be one hint that Tree Based ensemble models (specifically, Adaptive Boosting) may be very well suited since they incorporate parts of this approach (i.e. zooming in on the residuals). \n",
    "\n",
    "In Order to process all our data in one step, we create pipelines that we fit into a column transformer. This allows us to reverse transform our results after prediction (as seen below).\n",
    "\n",
    "Finally, we split out data into train / test sets."
   ]
  },
  {
   "cell_type": "code",
   "execution_count": 19,
   "metadata": {},
   "outputs": [],
   "source": [
    "pipe_numeric = Pipeline(steps=[('imputation', SimpleImputer(strategy='median')),\n",
    "                               ('scaling', MinMaxScaler())])\n",
    "pipe_categorical = Pipeline(steps=[('encoding', OneHotEncoder())])\n",
    "\n",
    "preprocessor_X = ColumnTransformer(transformers=[\n",
    "    ('numerical', pipe_numeric, numeric_features),\n",
    "    ('categorical', pipe_categorical, categorical_features)])\n",
    "\n",
    "X = preprocessor_X.fit_transform(df)\n",
    "transformer_y = RobustScaler()\n",
    "transformer_y.fit(y.reshape(-1,1))\n",
    "y = transformer_y.transform(y.reshape(-1,1))\n",
    "\n",
    "train_X, test_X, train_y, test_y = train_test_split(X, y, random_state=42)"
   ]
  },
  {
   "cell_type": "markdown",
   "metadata": {},
   "source": [
    "After Processing our data, we train an initial SVR model, with polynomial kernel of grade 3 as a first estimate and look at the R2 (coefficient of determination) and mean squared error in our test set."
   ]
  },
  {
   "cell_type": "code",
   "execution_count": 20,
   "metadata": {},
   "outputs": [
    {
     "name": "stderr",
     "output_type": "stream",
     "text": [
      "/usr/lib/python3.8/site-packages/sklearn/utils/validation.py:760: DataConversionWarning: A column-vector y was passed when a 1d array was expected. Please change the shape of y to (n_samples, ), for example using ravel().\n",
      "  y = column_or_1d(y, warn=True)\n"
     ]
    },
    {
     "data": {
      "text/plain": [
       "0.283135037821588"
      ]
     },
     "execution_count": 20,
     "metadata": {},
     "output_type": "execute_result"
    }
   ],
   "source": [
    "svm_regressor = SVR(kernel='poly', degree=3, C=10)\n",
    "svm_regressor.fit(train_X, train_y)\n",
    "svm_regressor.score(test_X, test_y)"
   ]
  },
  {
   "cell_type": "code",
   "execution_count": 21,
   "metadata": {},
   "outputs": [
    {
     "data": {
      "text/plain": [
       "2.674979796947559"
      ]
     },
     "execution_count": 21,
     "metadata": {},
     "output_type": "execute_result"
    }
   ],
   "source": [
    "mse = mean_squared_error(test_y.ravel(), svm_regressor.predict(test_X))\n",
    "processed_mse = transformer_y.inverse_transform([[mse]])\n",
    "rmse = processed_mse**.5\n",
    "rmse[0][0]"
   ]
  },
  {
   "cell_type": "markdown",
   "metadata": {},
   "source": [
    "We see from our R2 score that our model only accounts for ~30% of the variation seen in our data, as measured on the validation set. Since our data overall has a very large degree of variance (and heteroskedacity, on top of not being normally distributed) to begin with, this still seems underwhelming. \n",
    "\n",
    "Furthermore, we can see via our inverse-processed RMSE that our typical prediction is almost 3 Million units in sales off the mark.\n",
    "\n",
    "We will see if we can improve our model further via a grid search:"
   ]
  },
  {
   "cell_type": "code",
   "execution_count": 22,
   "metadata": {},
   "outputs": [
    {
     "name": "stderr",
     "output_type": "stream",
     "text": [
      "/usr/lib/python3.8/site-packages/sklearn/utils/validation.py:760: DataConversionWarning: A column-vector y was passed when a 1d array was expected. Please change the shape of y to (n_samples, ), for example using ravel().\n",
      "  y = column_or_1d(y, warn=True)\n"
     ]
    },
    {
     "data": {
      "text/plain": [
       "0.3733846838870957"
      ]
     },
     "execution_count": 22,
     "metadata": {},
     "output_type": "execute_result"
    }
   ],
   "source": [
    "param_grid = [{'C': [0.1, 1, 3], \n",
    "               'gamma': [0.1, 1, 3],\n",
    "               'kernel': ['poly'],\n",
    "               'degree': [2,3]}]\n",
    "\n",
    "gridsearch = GridSearchCV(SVR(), param_grid, n_jobs=-1)\n",
    "gridsearch.fit(train_X, train_y)\n",
    "gridsearch.best_score_"
   ]
  },
  {
   "cell_type": "code",
   "execution_count": 23,
   "metadata": {},
   "outputs": [
    {
     "data": {
      "text/plain": [
       "{'C': 0.1, 'degree': 3, 'gamma': 1, 'kernel': 'poly'}"
      ]
     },
     "execution_count": 23,
     "metadata": {},
     "output_type": "execute_result"
    }
   ],
   "source": [
    "gridsearch.best_params_"
   ]
  },
  {
   "cell_type": "code",
   "execution_count": 24,
   "metadata": {},
   "outputs": [
    {
     "data": {
      "text/plain": [
       "0.3822235645506696"
      ]
     },
     "execution_count": 24,
     "metadata": {},
     "output_type": "execute_result"
    }
   ],
   "source": [
    "svr = gridsearch.best_estimator_\n",
    "svr.score(test_X, test_y)"
   ]
  },
  {
   "cell_type": "markdown",
   "metadata": {},
   "source": [
    "As we can see from our (non-exhaustive) grid search here, our model can still be significantly improved - we increased R2 to an arguably still underwhelming .38 so far. Furthermore, during a few rounds of running grid search we had to explicitly exclude lower regularization parameters C, since the model tended to overfit with C < 1 (the test R2 decreasing by up to a third with a C of .05 for example, which is a clear indicator that our hyperplane was fitting the data too closely). \n",
    "\n",
    "While grid search across such parameters as here is a fairly common way to tune SVR models, it is computationally expensive and thereby time-consuming. A better way forward may be evolutionary search algorithms, as proposed in papers such as [this one](https://www.researchgate.net/publication/222550564_Evolutionary_tuning_of_multiple_SVM_parameters).\n",
    "\n",
    "Finally, we may improve our performance by engineering new features from the existing features, or transforming the scale of our outcome variables to compensate for the high heteroskedacity. While Support Vector Regression can be a powerful method, we suspect it is not the ideal approach to this scenario."
   ]
  }
 ],
 "metadata": {
  "kernelspec": {
   "display_name": "Python 3",
   "language": "python",
   "name": "python3"
  },
  "language_info": {
   "codemirror_mode": {
    "name": "ipython",
    "version": 3
   },
   "file_extension": ".py",
   "mimetype": "text/x-python",
   "name": "python",
   "nbconvert_exporter": "python",
   "pygments_lexer": "ipython3",
   "version": "3.6.9"
  }
 },
 "nbformat": 4,
 "nbformat_minor": 4
}
